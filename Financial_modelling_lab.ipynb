{
  "nbformat": 4,
  "nbformat_minor": 0,
  "metadata": {
    "colab": {
      "provenance": [],
      "authorship_tag": "ABX9TyPjpNSI4BtLCW+tHrAYJjbf",
      "include_colab_link": true
    },
    "kernelspec": {
      "name": "python3",
      "display_name": "Python 3"
    },
    "language_info": {
      "name": "python"
    }
  },
  "cells": [
    {
      "cell_type": "markdown",
      "metadata": {
        "id": "view-in-github",
        "colab_type": "text"
      },
      "source": [
        "<a href=\"https://colab.research.google.com/github/janjibDEV/finance_modelling/blob/main/Financial_modelling_lab.ipynb\" target=\"_parent\"><img src=\"https://colab.research.google.com/assets/colab-badge.svg\" alt=\"Open In Colab\"/></a>"
      ]
    },
    {
      "cell_type": "markdown",
      "source": [
        "# Financial Modelling Lab\n",
        "## 1. Simple Python Model\n",
        "\n",
        "### Inputs\n",
        "- Salary\n",
        "- Saving Rate\n",
        "- Interest rate\n",
        "- Desired Cash\n",
        "\n",
        "### Outputs\n",
        "- Annual Cash Saved\n",
        "- Years to Retirement"
      ],
      "metadata": {
        "id": "p9Pz0iReSIhE"
      }
    },
    {
      "cell_type": "code",
      "execution_count": 1,
      "metadata": {
        "id": "NqC7EpYCPrzl"
      },
      "outputs": [],
      "source": [
        "import numpy_financial as npf\n",
        "\n",
        "salary = 60000\n",
        "savingRate = 0.25\n",
        "interestRate = 0.05\n",
        "desiredCash = 1500000"
      ]
    },
    {
      "cell_type": "code",
      "source": [
        "annualCashSaved = salary * savingRate\n",
        "\n",
        "# numpy.nper(rate, pmt, pv, fv=0, when='end')\n",
        "yearsToRetirement = npf.nper(interestRate, -1 * annualCashSaved, 0, desiredCash)\n",
        "\n",
        "print(f\"Annual Cash Saved: ${annualCashSaved}\")\n",
        "print(f\"Years to Retirement: {yearsToRetirement:.1f} years\")"
      ],
      "metadata": {
        "colab": {
          "base_uri": "https://localhost:8080/"
        },
        "id": "ktZ2hid1Ssae",
        "outputId": "906cb0da-9267-463a-bbb2-aec9da4a7ca0"
      },
      "execution_count": 4,
      "outputs": [
        {
          "output_type": "stream",
          "name": "stdout",
          "text": [
            "Annual Cash Saved: $15000.0\n",
            "Years to Retirement: 36.7 years\n"
          ]
        }
      ]
    },
    {
      "cell_type": "code",
      "source": [],
      "metadata": {
        "id": "1Ii_S0eDT4Fe"
      },
      "execution_count": 2,
      "outputs": []
    }
  ]
}